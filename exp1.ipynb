{
 "cells": [
  {
   "cell_type": "code",
   "execution_count": 1,
   "metadata": {},
   "outputs": [
    {
     "name": "stdout",
     "output_type": "stream",
     "text": [
      "accuracy.pdf\t\t   confusion_matrix.pdf  loss.pdf   Untitled.ipynb\r\n",
      "classification_report.csv  datasets\t\t README.md\r\n",
      "confusion_matrix.npy\t   df.csv\t\t results\r\n"
     ]
    }
   ],
   "source": [
    "!ls"
   ]
  },
  {
   "cell_type": "code",
   "execution_count": 2,
   "metadata": {},
   "outputs": [],
   "source": [
    "import pandas as pd, numpy as np, os, sys"
   ]
  },
  {
   "cell_type": "code",
   "execution_count": 3,
   "metadata": {},
   "outputs": [],
   "source": [
    "from datasets import dataset"
   ]
  },
  {
   "cell_type": "code",
   "execution_count": 4,
   "metadata": {},
   "outputs": [],
   "source": [
    "#df = dataset.convert_xml_to_csv('datasets/pan19-author-profiling-training-2019-01-28','en')\n",
    "df = pd.read_csv('df.csv')"
   ]
  },
  {
   "cell_type": "code",
   "execution_count": 5,
   "metadata": {},
   "outputs": [
    {
     "data": {
      "text/html": [
       "<div>\n",
       "<style>\n",
       "    .dataframe thead tr:only-child th {\n",
       "        text-align: right;\n",
       "    }\n",
       "\n",
       "    .dataframe thead th {\n",
       "        text-align: left;\n",
       "    }\n",
       "\n",
       "    .dataframe tbody tr th {\n",
       "        vertical-align: top;\n",
       "    }\n",
       "</style>\n",
       "<table border=\"1\" class=\"dataframe\">\n",
       "  <thead>\n",
       "    <tr style=\"text-align: right;\">\n",
       "      <th></th>\n",
       "      <th>Unnamed: 0</th>\n",
       "      <th>author_id</th>\n",
       "      <th>entity</th>\n",
       "      <th>gender</th>\n",
       "      <th>text</th>\n",
       "      <th>seq</th>\n",
       "    </tr>\n",
       "  </thead>\n",
       "  <tbody>\n",
       "    <tr>\n",
       "      <th>0</th>\n",
       "      <td>0</td>\n",
       "      <td>513e237429859f8123f546158fa6580f</td>\n",
       "      <td>bot</td>\n",
       "      <td>bot</td>\n",
       "      <td>Check out these awesome climbing t-shirts &amp;amp...</td>\n",
       "      <td>0.0</td>\n",
       "    </tr>\n",
       "    <tr>\n",
       "      <th>1</th>\n",
       "      <td>1</td>\n",
       "      <td>513e237429859f8123f546158fa6580f</td>\n",
       "      <td>bot</td>\n",
       "      <td>bot</td>\n",
       "      <td>Caring For Your New Garage Floors  http://t.co...</td>\n",
       "      <td>1.0</td>\n",
       "    </tr>\n",
       "    <tr>\n",
       "      <th>2</th>\n",
       "      <td>2</td>\n",
       "      <td>513e237429859f8123f546158fa6580f</td>\n",
       "      <td>bot</td>\n",
       "      <td>bot</td>\n",
       "      <td>Introduction to the Major Work Shoe Brands  ht...</td>\n",
       "      <td>2.0</td>\n",
       "    </tr>\n",
       "    <tr>\n",
       "      <th>3</th>\n",
       "      <td>3</td>\n",
       "      <td>513e237429859f8123f546158fa6580f</td>\n",
       "      <td>bot</td>\n",
       "      <td>bot</td>\n",
       "      <td>There is no psychiatrist in the world like a p...</td>\n",
       "      <td>3.0</td>\n",
       "    </tr>\n",
       "    <tr>\n",
       "      <th>4</th>\n",
       "      <td>4</td>\n",
       "      <td>513e237429859f8123f546158fa6580f</td>\n",
       "      <td>bot</td>\n",
       "      <td>bot</td>\n",
       "      <td>Be Prepared!  Learn About these Bartering Reso...</td>\n",
       "      <td>4.0</td>\n",
       "    </tr>\n",
       "  </tbody>\n",
       "</table>\n",
       "</div>"
      ],
      "text/plain": [
       "   Unnamed: 0                         author_id entity gender  \\\n",
       "0           0  513e237429859f8123f546158fa6580f    bot    bot   \n",
       "1           1  513e237429859f8123f546158fa6580f    bot    bot   \n",
       "2           2  513e237429859f8123f546158fa6580f    bot    bot   \n",
       "3           3  513e237429859f8123f546158fa6580f    bot    bot   \n",
       "4           4  513e237429859f8123f546158fa6580f    bot    bot   \n",
       "\n",
       "                                                text  seq  \n",
       "0  Check out these awesome climbing t-shirts &amp...  0.0  \n",
       "1  Caring For Your New Garage Floors  http://t.co...  1.0  \n",
       "2  Introduction to the Major Work Shoe Brands  ht...  2.0  \n",
       "3  There is no psychiatrist in the world like a p...  3.0  \n",
       "4  Be Prepared!  Learn About these Bartering Reso...  4.0  "
      ]
     },
     "metadata": {},
     "output_type": "display_data"
    },
    {
     "name": "stdout",
     "output_type": "stream",
     "text": [
      "Female:  103000\n",
      "Male:  103000\n",
      "Bot:  206000\n",
      "Total:  412000\n"
     ]
    }
   ],
   "source": [
    "display(df.head())\n",
    "\n",
    "print(\"Female: \", len(df[df['gender'] == 'female']))\n",
    "print(\"Male: \", len(df[df['gender'] == 'male']))\n",
    "print(\"Bot: \", len(df[df['gender'] == 'bot']))\n",
    "print(\"Total: \", len(df))"
   ]
  },
  {
   "cell_type": "code",
   "execution_count": 6,
   "metadata": {},
   "outputs": [],
   "source": [
    "df['bot'] = df['entity']#.apply(lambda x: 1 if x == 'bot' else 0)\n",
    "df['gender_int'] = df['gender'].apply(lambda x: 0 if x == 'female' else 1)"
   ]
  },
  {
   "cell_type": "code",
   "execution_count": 7,
   "metadata": {},
   "outputs": [],
   "source": [
    "text_gender = df[df['entity'] != 'bot']['text'].values \n",
    "gender = df[df['entity'] != 'bot']['gender_int'].values\n",
    "text_bot = df['text'].values \n",
    "is_bot = df['bot'].values"
   ]
  },
  {
   "cell_type": "code",
   "execution_count": 8,
   "metadata": {},
   "outputs": [
    {
     "data": {
      "text/plain": [
       "(412000, 412000, 206000, 206000)"
      ]
     },
     "execution_count": 8,
     "metadata": {},
     "output_type": "execute_result"
    }
   ],
   "source": [
    "len(text_bot), len(is_bot), len(text_gender), len(gender)"
   ]
  },
  {
   "cell_type": "code",
   "execution_count": 9,
   "metadata": {},
   "outputs": [
    {
     "data": {
      "text/plain": [
       "(103000, 103000)"
      ]
     },
     "execution_count": 9,
     "metadata": {},
     "output_type": "execute_result"
    }
   ],
   "source": [
    "len(gender[gender == 1]), len(gender[gender == 0])"
   ]
  },
  {
   "cell_type": "code",
   "execution_count": 10,
   "metadata": {},
   "outputs": [
    {
     "name": "stdout",
     "output_type": "stream",
     "text": [
      "mean:  112.5615 16.356356796116504\n",
      "median:  101.0 15.0\n"
     ]
    }
   ],
   "source": [
    "l_char = [len(i) for i in df['text'].values]\n",
    "l_word = [len(i.split(\" \")) for i in df['text'].values]\n",
    "print(\"mean: \", np.mean(l_char), np.mean(l_word))\n",
    "print(\"median: \", np.median(l_char), np.median(l_word))"
   ]
  },
  {
   "cell_type": "code",
   "execution_count": 11,
   "metadata": {},
   "outputs": [],
   "source": [
    "from sklearn.feature_extraction.text import CountVectorizer, TfidfVectorizer\n",
    "from sklearn.model_selection import train_test_split\n",
    "from sklearn.linear_model import LogisticRegressionCV\n",
    "from sklearn.metrics import classification_report, accuracy_score, confusion_matrix"
   ]
  },
  {
   "cell_type": "markdown",
   "metadata": {},
   "source": [
    "### is bot"
   ]
  },
  {
   "cell_type": "code",
   "execution_count": 12,
   "metadata": {},
   "outputs": [
    {
     "name": "stdout",
     "output_type": "stream",
     "text": [
      "(329600,) (329600,) (82400,) (82400,)\n"
     ]
    },
    {
     "data": {
      "text/plain": [
       "\"\\nvect = TfidfVectorizer(analyzer='word')\\n\\nX_train_v = vect.fit_transform(X_train)\\nX_test_v = vect.transform(X_test)\\n\\nclf = LogisticRegressionCV(cv=3, solver='liblinear')\\n\\nclf.fit(X_train_v, y_train)\\n\\ny_pred = clf.predict(X_test_v)\\n\\nprint(classification_report(y_test, y_pred)) \\nprint(accuracy_score(y_test, y_pred)) \\nprint(confusion_matrix(y_test, y_pred))\\n\""
      ]
     },
     "execution_count": 12,
     "metadata": {},
     "output_type": "execute_result"
    }
   ],
   "source": [
    "X_train, X_test, y_train, y_test = train_test_split(text_bot, is_bot, test_size=0.2)\n",
    "print(np.array(X_train).shape, np.array(y_train).shape, np.array(X_test).shape, np.array(y_test).shape)\n",
    "\"\"\"\n",
    "vect = TfidfVectorizer(analyzer='word')\n",
    "\n",
    "X_train_v = vect.fit_transform(X_train)\n",
    "X_test_v = vect.transform(X_test)\n",
    "\n",
    "clf = LogisticRegressionCV(cv=3, solver='liblinear')\n",
    "\n",
    "clf.fit(X_train_v, y_train)\n",
    "\n",
    "y_pred = clf.predict(X_test_v)\n",
    "\n",
    "print(classification_report(y_test, y_pred)) \n",
    "print(accuracy_score(y_test, y_pred)) \n",
    "print(confusion_matrix(y_test, y_pred))\n",
    "\"\"\""
   ]
  },
  {
   "cell_type": "markdown",
   "metadata": {},
   "source": [
    "### gender"
   ]
  },
  {
   "cell_type": "code",
   "execution_count": 23,
   "metadata": {},
   "outputs": [
    {
     "name": "stdout",
     "output_type": "stream",
     "text": [
      "(164800,) (164800,) (41200,) (41200,)\n",
      "              precision    recall  f1-score   support\n",
      "\n",
      "           0       0.80      0.83      0.81     20531\n",
      "           1       0.82      0.79      0.81     20669\n",
      "\n",
      "   micro avg       0.81      0.81      0.81     41200\n",
      "   macro avg       0.81      0.81      0.81     41200\n",
      "weighted avg       0.81      0.81      0.81     41200\n",
      "\n",
      "0.8105582524271845\n",
      "[[17024  3507]\n",
      " [ 4298 16371]]\n"
     ]
    }
   ],
   "source": [
    "X_train, X_test, y_train, y_test = train_test_split(text_gender, gender, test_size=0.2)\n",
    "print(np.array(X_train).shape, np.array(y_train).shape, np.array(X_test).shape, np.array(y_test).shape)\n",
    "\n",
    "vect = TfidfVectorizer(analyzer='word')\n",
    "\n",
    "X_train_v = vect.fit_transform(X_train)\n",
    "X_test_v = vect.transform(X_test)\n",
    "\n",
    "clf = LogisticRegressionCV(cv=3, solver='liblinear')\n",
    "\n",
    "clf.fit(X_train_v, y_train)\n",
    "\n",
    "y_pred = clf.predict(X_test_v)\n",
    "\n",
    "print(classification_report(y_test, y_pred)) \n",
    "print(accuracy_score(y_test, y_pred)) \n",
    "print(confusion_matrix(y_test, y_pred))\n"
   ]
  },
  {
   "cell_type": "code",
   "execution_count": null,
   "metadata": {},
   "outputs": [
    {
     "name": "stdout",
     "output_type": "stream",
     "text": [
      "(164800,) (164800,) (41200,) (41200,)\n"
     ]
    }
   ],
   "source": [
    "X_train, X_test, y_train, y_test = train_test_split(text_gender, gender, test_size=0.2)\n",
    "print(np.array(X_train).shape, np.array(y_train).shape, np.array(X_test).shape, np.array(y_test).shape)\n",
    "\n",
    "vect = TfidfVectorizer(analyzer='char', ngram_range=(3,9))\n",
    "\n",
    "X_train_v = vect.fit_transform(X_train)\n",
    "X_test_v = vect.transform(X_test)\n",
    "\n",
    "clf = LogisticRegressionCV(cv=3, solver='liblinear')\n",
    "\n",
    "clf.fit(X_train_v, y_train)\n",
    "\n",
    "y_pred = clf.predict(X_test_v)\n",
    "\n",
    "print(classification_report(y_test, y_pred)) \n",
    "print(accuracy_score(y_test, y_pred)) \n",
    "print(confusion_matrix(y_test, y_pred))\n"
   ]
  },
  {
   "cell_type": "code",
   "execution_count": 14,
   "metadata": {},
   "outputs": [],
   "source": [
    "from Models.functions.plot import plot_history, full_multiclass_report\n",
    "from Models.functions.preprocessing import clean, labelEncoder"
   ]
  },
  {
   "cell_type": "code",
   "execution_count": 15,
   "metadata": {},
   "outputs": [
    {
     "name": "stderr",
     "output_type": "stream",
     "text": [
      "Using TensorFlow backend.\n"
     ]
    }
   ],
   "source": [
    "from keras.models import Model\n",
    "from keras.layers import Input, Dense, Flatten\n",
    "from keras.layers import Convolution1D\n",
    "from keras.layers import MaxPooling1D\n",
    "from keras.layers import Embedding\n",
    "from keras.layers import ThresholdedReLU\n",
    "from keras.layers import Dropout\n",
    "from keras.callbacks import TensorBoard\n",
    "from keras.layers.merge import concatenate, add\n",
    "from keras import regularizers\n",
    "from keras.utils import to_categorical\n"
   ]
  },
  {
   "cell_type": "code",
   "execution_count": 16,
   "metadata": {},
   "outputs": [],
   "source": [
    "# CharCNNZhang\n",
    "def build_model( \n",
    "                input_size, \n",
    "                alphabet_size, \n",
    "                conv_layers,\n",
    "                fully_connected_layers,\n",
    "                embedding_size, \n",
    "                threshold, \n",
    "                dropout_p, \n",
    "                num_of_classes, \n",
    "                optimizer='adam', \n",
    "                loss='categorical_crossentropy', # binary\n",
    "                # loss='sparse_categorical_crossentropy', # integers\n",
    "                metrics = ['accuracy'],\n",
    "                concat = False,\n",
    "               ):\n",
    "    \"\"\"\n",
    "    Build and compile the Character Level CNN model\n",
    "    Returns: None\n",
    "    \"\"\"\n",
    "    # Input layer\n",
    "    inputs = Input(shape=(input_size,), name='sent_input', dtype='int64')\n",
    "    # Embedding layers\n",
    "    x = Embedding(alphabet_size + 1, embedding_size, input_length=input_size, trainable=True)(inputs)\n",
    "    # Convolution layers\n",
    "    if concat:\n",
    "        channels = []\n",
    "        \n",
    "    for cl in conv_layers:\n",
    "        \n",
    "        x1 = Convolution1D(cl[0], cl[1], activation='tahn', padding='same', kernel_regularizer=regularizers.l2(0.03))(x)\n",
    "        # x = ThresholdedReLU(threshold)(x)\n",
    "        if cl[2] != -1:\n",
    "            x1 = MaxPooling1D(cl[2], padding='valid')(x1)\n",
    "        \n",
    "        if concat:\n",
    "            channels.append(x1)\n",
    "        else:\n",
    "            x = x1\n",
    "    \n",
    "    if concat:\n",
    "        x1 = concatenate(channels, axis=1)\n",
    "    \n",
    "    x = Flatten()(x1)\n",
    "    # Fully connected layers\n",
    "    for fl in fully_connected_layers:\n",
    "        x = Dense(fl, activation='relu')(x)\n",
    "        #x = ThresholdedReLU(threshold)(x)\n",
    "        x = Dropout(dropout_p)(x)\n",
    "    # Output layer\n",
    "    predictions = Dense(num_of_classes, activation='softmax')(x)\n",
    "    # Build and compile model\n",
    "    model = Model(inputs=inputs, outputs=predictions)\n",
    "    model.compile(optimizer=optimizer, loss=loss, metrics = metrics)\n",
    "    model = model\n",
    "    print(\"CharCNNZhang model built: \")\n",
    "    model.summary()\n",
    "    return model"
   ]
  },
  {
   "cell_type": "code",
   "execution_count": 17,
   "metadata": {},
   "outputs": [],
   "source": [
    "def format_data(data):\n",
    "\n",
    "    # str_to_indexes\n",
    "    def str_to_indexes(s, length, dict_char):\n",
    "        \"\"\"\n",
    "        Convert a string to character indexes based on character dictionary.\n",
    "\n",
    "        Args:\n",
    "            s (str): String to be converted to indexes\n",
    "        Returns:\n",
    "            str2idx (np.ndarray): Indexes of characters in s\n",
    "        \"\"\"\n",
    "        s = s.lower()\n",
    "        max_length = min(len(s), length)\n",
    "        str2idx = np.zeros(length, dtype='int64')\n",
    "        for i in range(1, max_length + 1):\n",
    "            c = s[-i]\n",
    "            if c in dict_char:\n",
    "                str2idx[i - 1] = dict_char[c]\n",
    "        return str2idx\n",
    "        \n",
    "\n",
    "    alphabet=\"abcdefghijklmnopqrstuvwxyz0123456789-,;.!?:'\\\"/\\\\|_@#$%^&*~`+-=<>()[]{} \"\n",
    "    alphabet_size = len(alphabet)\n",
    "    input_size = 128\n",
    "    dict_char = {}\n",
    "    for idx, char in enumerate(alphabet):\n",
    "        dict_char[char] = idx + 1\n",
    "    length = input_size\n",
    "\n",
    "    data_size = len(data)\n",
    "    \n",
    "    \"\"\"\n",
    "    Return all loaded data from data variable.\n",
    "    Returns:\n",
    "        (np.ndarray) Data transformed from raw to indexed form with associated one-hot label.\n",
    "    \"\"\"\n",
    "    data_size = len(data)\n",
    "    start_index = 0\n",
    "    end_index = data_size\n",
    "    batch_texts = data[start_index:end_index]\n",
    "    batch_indices = []\n",
    "    #one_hot = np.eye(no_of_classes, dtype='int64')\n",
    "    classes = []\n",
    "    for s in batch_texts:\n",
    "        batch_indices.append(str_to_indexes(s, length, dict_char))\n",
    "        #c = int(c) - 1\n",
    "        #classes.append(one_hot[c])\n",
    "    return np.asarray(batch_indices, dtype='int64'), np.asarray(classes), dict_char, alphabet_size"
   ]
  },
  {
   "cell_type": "code",
   "execution_count": 18,
   "metadata": {},
   "outputs": [
    {
     "name": "stdout",
     "output_type": "stream",
     "text": [
      "(164800, 128) (164800, 2) (41200, 128) (41200, 2)\n"
     ]
    },
    {
     "data": {
      "text/plain": [
       "array([1., 0.], dtype=float32)"
      ]
     },
     "execution_count": 18,
     "metadata": {},
     "output_type": "execute_result"
    }
   ],
   "source": [
    "X_char, cl, dict_char, alphabet_size = format_data(text_gender)\n",
    "y = to_categorical(gender)\n",
    "X_train, X_test, y_train, y_test = train_test_split(X_char, y, test_size=0.2)\n",
    "print(np.array(X_train).shape, np.array(y_train).shape, np.array(X_test).shape, np.array(y_test).shape)\n",
    "y[0]"
   ]
  },
  {
   "cell_type": "code",
   "execution_count": 19,
   "metadata": {},
   "outputs": [],
   "source": [
    "params_grid = dict(\n",
    "        input_size = X_train.shape[1],\n",
    "        alphabet_size = alphabet_size,\n",
    "        embedding_size = 32,\n",
    "        # feature maps, kernel, maxpooling\n",
    "        conv_layers = [[64,3,3],[64,12,3]],#[64,3,-1],[64,3,-1],[64,3,3]],\n",
    "        fully_connected_layers = [1024, 1024],\n",
    "        threshold = 1e-6,\n",
    "        dropout_p = 0.5,\n",
    "        num_of_classes = 2,\n",
    "        epochs = 20,\n",
    "        batch_size = 32\n",
    ")"
   ]
  },
  {
   "cell_type": "code",
   "execution_count": 20,
   "metadata": {},
   "outputs": [
    {
     "name": "stdout",
     "output_type": "stream",
     "text": [
      "CharCNNZhang model built: \n",
      "__________________________________________________________________________________________________\n",
      "Layer (type)                    Output Shape         Param #     Connected to                     \n",
      "==================================================================================================\n",
      "sent_input (InputLayer)         (None, 128)          0                                            \n",
      "__________________________________________________________________________________________________\n",
      "embedding_1 (Embedding)         (None, 128, 32)      2272        sent_input[0][0]                 \n",
      "__________________________________________________________________________________________________\n",
      "conv1d_1 (Conv1D)               (None, 128, 64)      6208        embedding_1[0][0]                \n",
      "__________________________________________________________________________________________________\n",
      "conv1d_2 (Conv1D)               (None, 128, 64)      24640       embedding_1[0][0]                \n",
      "__________________________________________________________________________________________________\n",
      "conv1d_3 (Conv1D)               (None, 128, 64)      12352       embedding_1[0][0]                \n",
      "__________________________________________________________________________________________________\n",
      "max_pooling1d_1 (MaxPooling1D)  (None, 42, 64)       0           conv1d_1[0][0]                   \n",
      "__________________________________________________________________________________________________\n",
      "max_pooling1d_2 (MaxPooling1D)  (None, 42, 64)       0           conv1d_2[0][0]                   \n",
      "__________________________________________________________________________________________________\n",
      "max_pooling1d_3 (MaxPooling1D)  (None, 42, 64)       0           conv1d_3[0][0]                   \n",
      "__________________________________________________________________________________________________\n",
      "concatenate_1 (Concatenate)     (None, 126, 64)      0           max_pooling1d_1[0][0]            \n",
      "                                                                 max_pooling1d_2[0][0]            \n",
      "                                                                 max_pooling1d_3[0][0]            \n",
      "__________________________________________________________________________________________________\n",
      "flatten_1 (Flatten)             (None, 8064)         0           concatenate_1[0][0]              \n",
      "__________________________________________________________________________________________________\n",
      "dense_1 (Dense)                 (None, 1024)         8258560     flatten_1[0][0]                  \n",
      "__________________________________________________________________________________________________\n",
      "dropout_1 (Dropout)             (None, 1024)         0           dense_1[0][0]                    \n",
      "__________________________________________________________________________________________________\n",
      "dense_2 (Dense)                 (None, 2)            2050        dropout_1[0][0]                  \n",
      "==================================================================================================\n",
      "Total params: 8,306,082\n",
      "Trainable params: 8,306,082\n",
      "Non-trainable params: 0\n",
      "__________________________________________________________________________________________________\n",
      "Train on 131840 samples, validate on 32960 samples\n",
      "Epoch 1/20\n",
      "131840/131840 [==============================] - 370s 3ms/step - loss: 0.7105 - acc: 0.5659 - val_loss: 0.6716 - val_acc: 0.5922\n",
      "Epoch 2/20\n",
      "131840/131840 [==============================] - 370s 3ms/step - loss: 0.6710 - acc: 0.5902 - val_loss: 0.6701 - val_acc: 0.5931\n",
      "Epoch 3/20\n",
      "131840/131840 [==============================] - 370s 3ms/step - loss: 0.6665 - acc: 0.5990 - val_loss: 0.6638 - val_acc: 0.6043\n",
      "Epoch 4/20\n",
      "131840/131840 [==============================] - 366s 3ms/step - loss: 0.6618 - acc: 0.6058 - val_loss: 0.6591 - val_acc: 0.6115\n",
      "Epoch 5/20\n",
      "131840/131840 [==============================] - 371s 3ms/step - loss: 0.6582 - acc: 0.6097 - val_loss: 0.6578 - val_acc: 0.6131\n",
      "Epoch 6/20\n",
      "131840/131840 [==============================] - 373s 3ms/step - loss: 0.6557 - acc: 0.6145 - val_loss: 0.6579 - val_acc: 0.6115\n",
      "Epoch 7/20\n",
      "131840/131840 [==============================] - 373s 3ms/step - loss: 0.6528 - acc: 0.6172 - val_loss: 0.6540 - val_acc: 0.6160\n",
      "Epoch 8/20\n",
      "131840/131840 [==============================] - 374s 3ms/step - loss: 0.6503 - acc: 0.6205 - val_loss: 0.6570 - val_acc: 0.6142\n",
      "Epoch 9/20\n",
      "131840/131840 [==============================] - 374s 3ms/step - loss: 0.6476 - acc: 0.6236 - val_loss: 0.6594 - val_acc: 0.6119\n",
      "Epoch 10/20\n",
      "131840/131840 [==============================] - 375s 3ms/step - loss: 0.6447 - acc: 0.6254 - val_loss: 0.6531 - val_acc: 0.6204\n",
      "Epoch 11/20\n",
      "131840/131840 [==============================] - 375s 3ms/step - loss: 0.6424 - acc: 0.6286 - val_loss: 0.6567 - val_acc: 0.6118\n",
      "Epoch 12/20\n",
      "131840/131840 [==============================] - 373s 3ms/step - loss: 0.6386 - acc: 0.6329 - val_loss: 0.6527 - val_acc: 0.6195\n",
      "Epoch 13/20\n",
      "131840/131840 [==============================] - 375s 3ms/step - loss: 0.6362 - acc: 0.6353 - val_loss: 0.6547 - val_acc: 0.6197\n",
      "Epoch 14/20\n",
      "131840/131840 [==============================] - 376s 3ms/step - loss: 0.6337 - acc: 0.6377 - val_loss: 0.6578 - val_acc: 0.6169\n",
      "Epoch 15/20\n",
      "131840/131840 [==============================] - 376s 3ms/step - loss: 0.6310 - acc: 0.6407 - val_loss: 0.6570 - val_acc: 0.6160\n",
      "Epoch 16/20\n",
      "131840/131840 [==============================] - 376s 3ms/step - loss: 0.6277 - acc: 0.6434 - val_loss: 0.6621 - val_acc: 0.6103\n",
      "Epoch 17/20\n",
      "131840/131840 [==============================] - 374s 3ms/step - loss: 0.6250 - acc: 0.6469 - val_loss: 0.6562 - val_acc: 0.6186\n",
      "Epoch 18/20\n",
      "131840/131840 [==============================] - 374s 3ms/step - loss: 0.6218 - acc: 0.6489 - val_loss: 0.6576 - val_acc: 0.6185\n",
      "Epoch 19/20\n",
      "131840/131840 [==============================] - 374s 3ms/step - loss: 0.6196 - acc: 0.6524 - val_loss: 0.6690 - val_acc: 0.6105\n",
      "Epoch 20/20\n",
      "131840/131840 [==============================] - 375s 3ms/step - loss: 0.6172 - acc: 0.6540 - val_loss: 0.6623 - val_acc: 0.6158\n"
     ]
    }
   ],
   "source": [
    "from keras.callbacks import ModelCheckpoint, ReduceLROnPlateau, EarlyStopping\n",
    "\n",
    "params = params_grid\n",
    "\n",
    "## create the model with the best params found\n",
    "model = build_model(\n",
    "    input_size=params[\"input_size\"],\n",
    "     alphabet_size=params[\"alphabet_size\"],\n",
    "     embedding_size=params[\"embedding_size\"],\n",
    "     conv_layers=params[\"conv_layers\"],\n",
    "     fully_connected_layers=params[\"fully_connected_layers\"],\n",
    "     num_of_classes=params[\"num_of_classes\"],\n",
    "     threshold=params[\"threshold\"],\n",
    "     dropout_p=params[\"dropout_p\"],\n",
    "     concat=True\n",
    "     #optimizer=params[\"optimizer\"],\n",
    "     #loss=params[\"loss\"])\n",
    ")\n",
    "## Then train it and display the results\n",
    "history = model.fit(X_train,\n",
    "                    y_train,\n",
    "                    epochs=params['epochs'],\n",
    "                    validation_split=0.2,\n",
    "                    batch_size=params['batch_size'],\n",
    "                    verbose = 1,\n",
    "                       callbacks=[\n",
    "                           #ReduceLROnPlateau(monitor='val_loss', factor=0.1, patience=4, min_lr=0.01),\n",
    "                           #EarlyStopping(monitor='val_loss', min_delta=0.5, patience=4, verbose=1)\n",
    "                  ])"
   ]
  },
  {
   "cell_type": "code",
   "execution_count": 21,
   "metadata": {},
   "outputs": [
    {
     "data": {
      "image/png": "[encoded data removed]",
      "text/plain": [
       "<matplotlib.figure.Figure at 0x7f1777ecddd8>"
      ]
     },
     "metadata": {},
     "output_type": "display_data"
    },
    {
     "data": {
      "text/plain": [
       "<matplotlib.figure.Figure at 0x7f1768407d30>"
      ]
     },
     "metadata": {},
     "output_type": "display_data"
    },
    {
     "data": {
      "image/png": "[encoded data removed]",
      "text/plain": [
       "<matplotlib.figure.Figure at 0x7f17683e9dd8>"
      ]
     },
     "metadata": {},
     "output_type": "display_data"
    },
    {
     "data": {
      "text/plain": [
       "<matplotlib.figure.Figure at 0x7f176840cdd8>"
      ]
     },
     "metadata": {},
     "output_type": "display_data"
    }
   ],
   "source": [
    "directory='./'\n",
    "\n",
    "plot_history(history, directory=directory, show=True)"
   ]
  },
  {
   "cell_type": "code",
   "execution_count": 22,
   "metadata": {},
   "outputs": [
    {
     "name": "stdout",
     "output_type": "stream",
     "text": [
      "Accuracy : 0.6096359223300971\n",
      "\n",
      "Classification Report\n",
      "              precision    recall  f1-score   support\n",
      "\n",
      "           0    0.60720   0.61615   0.61164     20555\n",
      "           1    0.61213   0.60315   0.60761     20645\n",
      "\n",
      "   micro avg    0.60964   0.60964   0.60964     41200\n",
      "   macro avg    0.60967   0.60965   0.60963     41200\n",
      "weighted avg    0.60967   0.60964   0.60962     41200\n",
      "\n",
      "[[12665  7890]\n",
      " [ 8193 12452]]\n",
      "Normalized confusion matrix\n",
      "[[0.61615179 0.38384821]\n",
      " [0.39685154 0.60314846]]\n"
     ]
    },
    {
     "data": {
      "text/plain": [
       "<matplotlib.figure.Figure at 0x7f1777ec3320>"
      ]
     },
     "metadata": {},
     "output_type": "display_data"
    }
   ],
   "source": [
    "\n",
    "full_multiclass_report(model,\n",
    "                       X_test,\n",
    "                       y_test,\n",
    "                       classes=['female','male'],\n",
    "                       directory=directory,\n",
    "                       binary=False)"
   ]
  },
  {
   "cell_type": "code",
   "execution_count": null,
   "metadata": {},
   "outputs": [],
   "source": []
  }
 ],
 "metadata": {
  "kernelspec": {
   "display_name": "Python 3",
   "language": "python",
   "name": "python3"
  },
  "language_info": {
   "codemirror_mode": {
    "name": "ipython",
    "version": 3
   },
   "file_extension": ".py",
   "mimetype": "text/x-python",
   "name": "python",
   "nbconvert_exporter": "python",
   "pygments_lexer": "ipython3",
   "version": "3.5.2"
  }
 },
 "nbformat": 4,
 "nbformat_minor": 2
}
